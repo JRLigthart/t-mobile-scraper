{
 "cells": [
  {
   "cell_type": "code",
   "execution_count": 58,
   "metadata": {},
   "outputs": [],
   "source": [
    "import requests\n",
    "from bs4 import BeautifulSoup\n",
    "from pprint import pprint\n",
    "import re"
   ]
  },
  {
   "cell_type": "code",
   "execution_count": 3,
   "metadata": {},
   "outputs": [],
   "source": [
    "page = requests.get(\"https://www.t-mobile.nl/shop/alle-telefoons\")\n",
    "\n",
    "soup = BeautifulSoup(page.text, \"html.parser\")"
   ]
  },
  {
   "cell_type": "code",
   "execution_count": 26,
   "metadata": {},
   "outputs": [
    {
     "data": {
      "text/plain": [
       "['https://www.t-mobile.nl/samsung/galaxy-s23-ultra?id=22009652&memory=256GB&color=Groen&shop=product&ch=es&cc=con&sc=acq&lp=1',\n",
       " 'https://www.t-mobile.nl/samsung/galaxy-s23?id=22009634&memory=128GB&color=Zwart&shop=product&ch=es&cc=con&sc=acq&lp=1',\n",
       " 'https://www.t-mobile.nl/iphone/iphone-14?id=22021617&memory=128GB&color=Zwart&shop=product&ch=es&cc=con&sc=acq&lp=1',\n",
       " 'https://www.t-mobile.nl/samsung/galaxy-s23-plus?id=22009644&memory=256GB&color=Groen&shop=product&ch=es&cc=con&sc=acq&lp=1',\n",
       " 'https://www.t-mobile.nl/oppo/reno-8-pro?id=22035764&memory=256GB&color=Zwart&shop=product&ch=es&cc=con&sc=acq&lp=1',\n",
       " 'https://www.t-mobile.nl/iphone/iphone-14-pro?id=22021666&memory=128GB&color=Zwart&shop=product&ch=es&cc=con&sc=acq&lp=1',\n",
       " 'https://www.t-mobile.nl/google/pixel-7-pro?id=22038109&memory=128GB&color=Zwart&shop=product&ch=es&cc=con&sc=acq&lp=1',\n",
       " 'https://www.t-mobile.nl/samsung/galaxy-z-flip-4?id=22009617&memory=128GB&color=Zwart&shop=product&ch=es&cc=con&sc=acq&lp=1',\n",
       " 'https://www.t-mobile.nl/google/pixel-7?id=22038103&memory=128GB&color=Zwart&shop=product&ch=es&cc=con&sc=acq&lp=1',\n",
       " 'https://www.t-mobile.nl/samsung/galaxy-s22?id=22009583&memory=128GB&color=Zwart&shop=product&ch=es&cc=con&sc=acq&lp=1',\n",
       " 'https://www.t-mobile.nl/iphone/iphone-13?id=22021607&memory=128GB&color=Groen&shop=product&ch=es&cc=con&sc=acq&lp=1',\n",
       " 'https://www.t-mobile.nl/iphone/iphone-14-pro-max?id=22021690&memory=128GB&color=Zwart&shop=product&ch=es&cc=con&sc=acq&lp=1',\n",
       " 'https://www.t-mobile.nl/iphone/iphone-14-plus?id=22021642&memory=128GB&color=Zwart&shop=product&ch=es&cc=con&sc=acq&lp=1',\n",
       " 'https://www.t-mobile.nl/google/pixel-6a?id=22038101&memory=128GB&color=Wit&shop=product&ch=es&cc=con&sc=acq&lp=1',\n",
       " 'https://www.t-mobile.nl/samsung/galaxy-a53?id=22009610&memory=128GB&color=Zwart&shop=product&ch=es&cc=con&sc=acq&lp=1',\n",
       " 'https://www.t-mobile.nl/samsung/galaxy-a33?id=22009607&memory=128GB&color=Zwart&shop=product&ch=es&cc=con&sc=acq&lp=1',\n",
       " 'https://www.t-mobile.nl/xiaomi/12t?id=22012728&memory=128GB&color=Zwart&shop=product&ch=es&cc=con&sc=acq&lp=1',\n",
       " 'https://www.t-mobile.nl/xiaomi/12?id=22012720&memory=256GB&color=Grijs&shop=product&ch=es&cc=con&sc=acq&lp=1',\n",
       " 'https://www.t-mobile.nl/oppo/find-x5?id=22035754&memory=256GB&color=Zwart&shop=product&ch=es&cc=con&sc=acq&lp=1',\n",
       " 'https://www.t-mobile.nl/oppo/a57s?id=22035766&memory=128GB&color=Zwart&shop=product&ch=es&cc=con&sc=acq&lp=1',\n",
       " 'https://www.t-mobile.nl/samsung/galaxy-z-fold-4?id=22009626&memory=256GB&color=Zwart&shop=product&ch=es&cc=con&sc=acq&lp=1',\n",
       " 'https://www.t-mobile.nl/iphone/iphone-12?id=22021492&memory=64GB&color=Zwart&shop=product&ch=es&cc=con&sc=acq&lp=1',\n",
       " 'https://www.t-mobile.nl/samsung/galaxy-a23?id=22009615&memory=64GB&color=Zwart&shop=product&ch=es&cc=con&sc=acq&lp=1',\n",
       " 'https://www.t-mobile.nl/oppo/reno-8?id=22035762&memory=256GB&color=Zwart&shop=product&ch=es&cc=con&sc=acq&lp=1',\n",
       " 'https://www.t-mobile.nl/iphone/iphone-13-mini?id=22021531&memory=128GB&color=Zwart&shop=product&ch=es&cc=con&sc=acq&lp=1',\n",
       " 'https://www.t-mobile.nl/iphone/iphone-se?id=22021598&memory=64GB&color=Zwart&shop=product&ch=es&cc=con&sc=acq&lp=1',\n",
       " 'https://www.t-mobile.nl/oppo/reno-8-lite?id=22035758&memory=128GB&color=Zwart&shop=product&ch=es&cc=con&sc=acq&lp=1',\n",
       " 'https://www.t-mobile.nl/oppo/find-x5-lite?id=22035752&memory=256GB&color=Zwart&shop=product&ch=es&cc=con&sc=acq&lp=1',\n",
       " 'https://www.t-mobile.nl/xiaomi/mi-11-lite?id=22012710&memory=128GB&color=Zwart&shop=product&ch=es&cc=con&sc=acq&lp=1',\n",
       " 'https://www.t-mobile.nl/samsung/galaxy-s21-fe?id=22009577&memory=128GB&color=Zwart&shop=product&ch=es&cc=con&sc=acq&lp=1',\n",
       " 'https://www.t-mobile.nl/xiaomi/redmi-note-11?id=22012724&memory=128GB&color=Grijs&shop=product&ch=es&cc=con&sc=acq&lp=1',\n",
       " 'https://www.t-mobile.nl/xiaomi/redmi-note-11-pro?id=22012725&memory=128GB&color=Grijs&shop=product&ch=es&cc=con&sc=acq&lp=1',\n",
       " 'https://www.t-mobile.nl/alcatel/3080?id=22001646&memory=128GB&color=Zwart&shop=product&ch=es&cc=con&sc=acq&lp=1',\n",
       " 'https://www.t-mobile.nl/emporia-telecom/smart-5?id=22035514&memory=32GB&color=Zwart&shop=product&ch=es&cc=con&sc=acq&lp=1',\n",
       " 'https://www.t-mobile.nl/fairphone/4?id=22036100&memory=128GB&color=Grijs&shop=product&ch=es&cc=con&sc=acq&lp=1',\n",
       " 'https://www.t-mobile.nl/motorola/edge-20-lite?id=22003058&memory=128GB&color=Zwart&shop=product&ch=es&cc=con&sc=acq&lp=1',\n",
       " 'https://www.t-mobile.nl/oppo/a74?id=22035743&memory=128GB&color=Zwart&shop=product&ch=es&cc=con&sc=acq&lp=1',\n",
       " 'https://www.t-mobile.nl/oppo/find-x5-pro?id=22035756&memory=256GB&color=Zwart&shop=product&ch=es&cc=con&sc=acq&lp=1',\n",
       " 'https://www.t-mobile.nl/samsung/galaxy-xcover-5?id=22009551&memory=64GB&color=Zwart&shop=product&ch=es&cc=con&sc=acq&lp=1',\n",
       " 'https://www.t-mobile.nl/iphone/iphone-11?id=22021367&memory=128GB&color=Zwart&shop=product&ch=es&cc=con&sc=acq&lp=1']"
      ]
     },
     "execution_count": 26,
     "metadata": {},
     "output_type": "execute_result"
    }
   ],
   "source": [
    "link_list = []\n",
    "links = soup.find_all(\"div\", {\"class\": \"mt-auto pt-3\"})\n",
    "for link in links:\n",
    "    for link2 in link.find_all('a'):\n",
    "        model = \"https://www.t-mobile.nl\" + link2.get('href')\n",
    "        link_list.append(model)\n",
    "\n",
    "link_list"
   ]
  },
  {
   "cell_type": "code",
   "execution_count": 28,
   "metadata": {},
   "outputs": [],
   "source": [
    "url = link_list[0]"
   ]
  },
  {
   "cell_type": "code",
   "execution_count": 29,
   "metadata": {},
   "outputs": [],
   "source": [
    "page = requests.get(url)\n",
    "soup = BeautifulSoup(page.text, \"html.parser\")"
   ]
  },
  {
   "cell_type": "code",
   "execution_count": 33,
   "metadata": {},
   "outputs": [
    {
     "name": "stdout",
     "output_type": "stream",
     "text": [
      "Groen\n",
      "Crème\n",
      "Zwart\n",
      "Lavendel\n"
     ]
    }
   ],
   "source": [
    "for color in soup.find_all(\"label\", {\"class\": \"color-swatch\"}):\n",
    "    print(color.get(\"title\"))\n"
   ]
  },
  {
   "cell_type": "code",
   "execution_count": 56,
   "metadata": {},
   "outputs": [
    {
     "name": "stdout",
     "output_type": "stream",
     "text": [
      "256GB\n",
      "22009652\n",
      "512GB\n",
      "22009656\n",
      "1TB\n",
      "22009660\n"
     ]
    }
   ],
   "source": [
    "for memory in soup.find_all(\"li\", {\"class\": \"mr-2 mt-2 mb-0\"}):\n",
    "    memory = memory.get(\"title\")\n",
    "    value = memory.find_all(\"input\")[0].get(\"value\")\n",
    "    url = url"
   ]
  },
  {
   "cell_type": "code",
   "execution_count": 57,
   "metadata": {},
   "outputs": [
    {
     "data": {
      "text/plain": [
       "'https://www.t-mobile.nl/samsung/galaxy-s23-ultra?id=22009652&memory=256GB&color=Groen&shop=product&ch=es&cc=con&sc=acq&lp=1'"
      ]
     },
     "execution_count": 57,
     "metadata": {},
     "output_type": "execute_result"
    }
   ],
   "source": [
    "url"
   ]
  },
  {
   "cell_type": "code",
   "execution_count": 68,
   "metadata": {},
   "outputs": [
    {
     "ename": "error",
     "evalue": "multiple repeat at position 10",
     "output_type": "error",
     "traceback": [
      "\u001b[1;31m---------------------------------------------------------------------------\u001b[0m",
      "\u001b[1;31merror\u001b[0m                                     Traceback (most recent call last)",
      "Cell \u001b[1;32mIn[68], line 1\u001b[0m\n\u001b[1;32m----> 1\u001b[0m re\u001b[39m.\u001b[39;49msub(\u001b[39mr\u001b[39;49m\u001b[39m\"\u001b[39;49m\u001b[39m(^memory.+*) ($GB)\u001b[39;49m\u001b[39m\"\u001b[39;49m, \u001b[39m\"\u001b[39;49m\u001b[39mtest\u001b[39;49m\u001b[39m\"\u001b[39;49m, url)\n",
      "File \u001b[1;32mc:\\Program Files\\Python311\\Lib\\re\\__init__.py:185\u001b[0m, in \u001b[0;36msub\u001b[1;34m(pattern, repl, string, count, flags)\u001b[0m\n\u001b[0;32m    178\u001b[0m \u001b[39mdef\u001b[39;00m \u001b[39msub\u001b[39m(pattern, repl, string, count\u001b[39m=\u001b[39m\u001b[39m0\u001b[39m, flags\u001b[39m=\u001b[39m\u001b[39m0\u001b[39m):\n\u001b[0;32m    179\u001b[0m \u001b[39m    \u001b[39m\u001b[39m\"\"\"Return the string obtained by replacing the leftmost\u001b[39;00m\n\u001b[0;32m    180\u001b[0m \u001b[39m    non-overlapping occurrences of the pattern in string by the\u001b[39;00m\n\u001b[0;32m    181\u001b[0m \u001b[39m    replacement repl.  repl can be either a string or a callable;\u001b[39;00m\n\u001b[0;32m    182\u001b[0m \u001b[39m    if a string, backslash escapes in it are processed.  If it is\u001b[39;00m\n\u001b[0;32m    183\u001b[0m \u001b[39m    a callable, it's passed the Match object and must return\u001b[39;00m\n\u001b[0;32m    184\u001b[0m \u001b[39m    a replacement string to be used.\"\"\"\u001b[39;00m\n\u001b[1;32m--> 185\u001b[0m     \u001b[39mreturn\u001b[39;00m _compile(pattern, flags)\u001b[39m.\u001b[39msub(repl, string, count)\n",
      "File \u001b[1;32mc:\\Program Files\\Python311\\Lib\\re\\__init__.py:294\u001b[0m, in \u001b[0;36m_compile\u001b[1;34m(pattern, flags)\u001b[0m\n\u001b[0;32m    288\u001b[0m     \u001b[39mimport\u001b[39;00m \u001b[39mwarnings\u001b[39;00m\n\u001b[0;32m    289\u001b[0m     warnings\u001b[39m.\u001b[39mwarn(\u001b[39m\"\u001b[39m\u001b[39mThe re.TEMPLATE/re.T flag is deprecated \u001b[39m\u001b[39m\"\u001b[39m\n\u001b[0;32m    290\u001b[0m               \u001b[39m\"\u001b[39m\u001b[39mas it is an undocumented flag \u001b[39m\u001b[39m\"\u001b[39m\n\u001b[0;32m    291\u001b[0m               \u001b[39m\"\u001b[39m\u001b[39mwithout an obvious purpose. \u001b[39m\u001b[39m\"\u001b[39m\n\u001b[0;32m    292\u001b[0m               \u001b[39m\"\u001b[39m\u001b[39mDon\u001b[39m\u001b[39m'\u001b[39m\u001b[39mt use it.\u001b[39m\u001b[39m\"\u001b[39m,\n\u001b[0;32m    293\u001b[0m               \u001b[39mDeprecationWarning\u001b[39;00m)\n\u001b[1;32m--> 294\u001b[0m p \u001b[39m=\u001b[39m _compiler\u001b[39m.\u001b[39;49mcompile(pattern, flags)\n\u001b[0;32m    295\u001b[0m \u001b[39mif\u001b[39;00m \u001b[39mnot\u001b[39;00m (flags \u001b[39m&\u001b[39m DEBUG):\n\u001b[0;32m    296\u001b[0m     \u001b[39mif\u001b[39;00m \u001b[39mlen\u001b[39m(_cache) \u001b[39m>\u001b[39m\u001b[39m=\u001b[39m _MAXCACHE:\n\u001b[0;32m    297\u001b[0m         \u001b[39m# Drop the oldest item\u001b[39;00m\n",
      "File \u001b[1;32mc:\\Program Files\\Python311\\Lib\\re\\_compiler.py:743\u001b[0m, in \u001b[0;36mcompile\u001b[1;34m(p, flags)\u001b[0m\n\u001b[0;32m    741\u001b[0m \u001b[39mif\u001b[39;00m isstring(p):\n\u001b[0;32m    742\u001b[0m     pattern \u001b[39m=\u001b[39m p\n\u001b[1;32m--> 743\u001b[0m     p \u001b[39m=\u001b[39m _parser\u001b[39m.\u001b[39;49mparse(p, flags)\n\u001b[0;32m    744\u001b[0m \u001b[39melse\u001b[39;00m:\n\u001b[0;32m    745\u001b[0m     pattern \u001b[39m=\u001b[39m \u001b[39mNone\u001b[39;00m\n",
      "File \u001b[1;32mc:\\Program Files\\Python311\\Lib\\re\\_parser.py:980\u001b[0m, in \u001b[0;36mparse\u001b[1;34m(str, flags, state)\u001b[0m\n\u001b[0;32m    977\u001b[0m state\u001b[39m.\u001b[39mflags \u001b[39m=\u001b[39m flags\n\u001b[0;32m    978\u001b[0m state\u001b[39m.\u001b[39mstr \u001b[39m=\u001b[39m \u001b[39mstr\u001b[39m\n\u001b[1;32m--> 980\u001b[0m p \u001b[39m=\u001b[39m _parse_sub(source, state, flags \u001b[39m&\u001b[39;49m SRE_FLAG_VERBOSE, \u001b[39m0\u001b[39;49m)\n\u001b[0;32m    981\u001b[0m p\u001b[39m.\u001b[39mstate\u001b[39m.\u001b[39mflags \u001b[39m=\u001b[39m fix_flags(\u001b[39mstr\u001b[39m, p\u001b[39m.\u001b[39mstate\u001b[39m.\u001b[39mflags)\n\u001b[0;32m    983\u001b[0m \u001b[39mif\u001b[39;00m source\u001b[39m.\u001b[39mnext \u001b[39mis\u001b[39;00m \u001b[39mnot\u001b[39;00m \u001b[39mNone\u001b[39;00m:\n",
      "File \u001b[1;32mc:\\Program Files\\Python311\\Lib\\re\\_parser.py:455\u001b[0m, in \u001b[0;36m_parse_sub\u001b[1;34m(source, state, verbose, nested)\u001b[0m\n\u001b[0;32m    453\u001b[0m start \u001b[39m=\u001b[39m source\u001b[39m.\u001b[39mtell()\n\u001b[0;32m    454\u001b[0m \u001b[39mwhile\u001b[39;00m \u001b[39mTrue\u001b[39;00m:\n\u001b[1;32m--> 455\u001b[0m     itemsappend(_parse(source, state, verbose, nested \u001b[39m+\u001b[39;49m \u001b[39m1\u001b[39;49m,\n\u001b[0;32m    456\u001b[0m                        \u001b[39mnot\u001b[39;49;00m nested \u001b[39mand\u001b[39;49;00m \u001b[39mnot\u001b[39;49;00m items))\n\u001b[0;32m    457\u001b[0m     \u001b[39mif\u001b[39;00m \u001b[39mnot\u001b[39;00m sourcematch(\u001b[39m\"\u001b[39m\u001b[39m|\u001b[39m\u001b[39m\"\u001b[39m):\n\u001b[0;32m    458\u001b[0m         \u001b[39mbreak\u001b[39;00m\n",
      "File \u001b[1;32mc:\\Program Files\\Python311\\Lib\\re\\_parser.py:863\u001b[0m, in \u001b[0;36m_parse\u001b[1;34m(source, state, verbose, nested, first)\u001b[0m\n\u001b[0;32m    860\u001b[0m     group \u001b[39m=\u001b[39m \u001b[39mNone\u001b[39;00m\n\u001b[0;32m    861\u001b[0m sub_verbose \u001b[39m=\u001b[39m ((verbose \u001b[39mor\u001b[39;00m (add_flags \u001b[39m&\u001b[39m SRE_FLAG_VERBOSE)) \u001b[39mand\u001b[39;00m\n\u001b[0;32m    862\u001b[0m                \u001b[39mnot\u001b[39;00m (del_flags \u001b[39m&\u001b[39m SRE_FLAG_VERBOSE))\n\u001b[1;32m--> 863\u001b[0m p \u001b[39m=\u001b[39m _parse_sub(source, state, sub_verbose, nested \u001b[39m+\u001b[39;49m \u001b[39m1\u001b[39;49m)\n\u001b[0;32m    864\u001b[0m \u001b[39mif\u001b[39;00m \u001b[39mnot\u001b[39;00m source\u001b[39m.\u001b[39mmatch(\u001b[39m\"\u001b[39m\u001b[39m)\u001b[39m\u001b[39m\"\u001b[39m):\n\u001b[0;32m    865\u001b[0m     \u001b[39mraise\u001b[39;00m source\u001b[39m.\u001b[39merror(\u001b[39m\"\u001b[39m\u001b[39mmissing ), unterminated subpattern\u001b[39m\u001b[39m\"\u001b[39m,\n\u001b[0;32m    866\u001b[0m                        source\u001b[39m.\u001b[39mtell() \u001b[39m-\u001b[39m start)\n",
      "File \u001b[1;32mc:\\Program Files\\Python311\\Lib\\re\\_parser.py:455\u001b[0m, in \u001b[0;36m_parse_sub\u001b[1;34m(source, state, verbose, nested)\u001b[0m\n\u001b[0;32m    453\u001b[0m start \u001b[39m=\u001b[39m source\u001b[39m.\u001b[39mtell()\n\u001b[0;32m    454\u001b[0m \u001b[39mwhile\u001b[39;00m \u001b[39mTrue\u001b[39;00m:\n\u001b[1;32m--> 455\u001b[0m     itemsappend(_parse(source, state, verbose, nested \u001b[39m+\u001b[39;49m \u001b[39m1\u001b[39;49m,\n\u001b[0;32m    456\u001b[0m                        \u001b[39mnot\u001b[39;49;00m nested \u001b[39mand\u001b[39;49;00m \u001b[39mnot\u001b[39;49;00m items))\n\u001b[0;32m    457\u001b[0m     \u001b[39mif\u001b[39;00m \u001b[39mnot\u001b[39;00m sourcematch(\u001b[39m\"\u001b[39m\u001b[39m|\u001b[39m\u001b[39m\"\u001b[39m):\n\u001b[0;32m    458\u001b[0m         \u001b[39mbreak\u001b[39;00m\n",
      "File \u001b[1;32mc:\\Program Files\\Python311\\Lib\\re\\_parser.py:685\u001b[0m, in \u001b[0;36m_parse\u001b[1;34m(source, state, verbose, nested, first)\u001b[0m\n\u001b[0;32m    682\u001b[0m     \u001b[39mraise\u001b[39;00m source\u001b[39m.\u001b[39merror(\u001b[39m\"\u001b[39m\u001b[39mnothing to repeat\u001b[39m\u001b[39m\"\u001b[39m,\n\u001b[0;32m    683\u001b[0m                        source\u001b[39m.\u001b[39mtell() \u001b[39m-\u001b[39m here \u001b[39m+\u001b[39m \u001b[39mlen\u001b[39m(this))\n\u001b[0;32m    684\u001b[0m \u001b[39mif\u001b[39;00m item[\u001b[39m0\u001b[39m][\u001b[39m0\u001b[39m] \u001b[39min\u001b[39;00m _REPEATCODES:\n\u001b[1;32m--> 685\u001b[0m     \u001b[39mraise\u001b[39;00m source\u001b[39m.\u001b[39merror(\u001b[39m\"\u001b[39m\u001b[39mmultiple repeat\u001b[39m\u001b[39m\"\u001b[39m,\n\u001b[0;32m    686\u001b[0m                        source\u001b[39m.\u001b[39mtell() \u001b[39m-\u001b[39m here \u001b[39m+\u001b[39m \u001b[39mlen\u001b[39m(this))\n\u001b[0;32m    687\u001b[0m \u001b[39mif\u001b[39;00m item[\u001b[39m0\u001b[39m][\u001b[39m0\u001b[39m] \u001b[39mis\u001b[39;00m SUBPATTERN:\n\u001b[0;32m    688\u001b[0m     group, add_flags, del_flags, p \u001b[39m=\u001b[39m item[\u001b[39m0\u001b[39m][\u001b[39m1\u001b[39m]\n",
      "\u001b[1;31merror\u001b[0m: multiple repeat at position 10"
     ]
    }
   ],
   "source": [
    "re.sub(r\"(^memory.+*) ($GB)\", \"test\", url)"
   ]
  }
 ],
 "metadata": {
  "kernelspec": {
   "display_name": "Python 3",
   "language": "python",
   "name": "python3"
  },
  "language_info": {
   "codemirror_mode": {
    "name": "ipython",
    "version": 3
   },
   "file_extension": ".py",
   "mimetype": "text/x-python",
   "name": "python",
   "nbconvert_exporter": "python",
   "pygments_lexer": "ipython3",
   "version": "3.11.1"
  },
  "orig_nbformat": 4,
  "vscode": {
   "interpreter": {
    "hash": "5238573367df39f7286bb46f9ff5f08f63a01a80960060ce41e3c79b190280fa"
   }
  }
 },
 "nbformat": 4,
 "nbformat_minor": 2
}
